{
 "cells": [
  {
   "cell_type": "markdown",
   "metadata": {},
   "source": [
    "# Strength of Concrete"
   ]
  },
  {
   "cell_type": "code",
   "execution_count": 1,
   "metadata": {},
   "outputs": [],
   "source": [
    "#Standard packages\n",
    "import pandas as pd\n",
    "import numpy as np\n",
    "import matplotlib.pyplot as plt\n",
    "%matplotlib inline\n",
    "import seaborn as sns"
   ]
  },
  {
   "cell_type": "code",
   "execution_count": 2,
   "metadata": {},
   "outputs": [],
   "source": [
    "#import the dataset\n",
    "df = pd.read_csv('Concrete_Data_Yeh.csv')"
   ]
  },
  {
   "cell_type": "code",
   "execution_count": 3,
   "metadata": {},
   "outputs": [
    {
     "data": {
      "text/html": [
       "<div>\n",
       "<style scoped>\n",
       "    .dataframe tbody tr th:only-of-type {\n",
       "        vertical-align: middle;\n",
       "    }\n",
       "\n",
       "    .dataframe tbody tr th {\n",
       "        vertical-align: top;\n",
       "    }\n",
       "\n",
       "    .dataframe thead th {\n",
       "        text-align: right;\n",
       "    }\n",
       "</style>\n",
       "<table border=\"1\" class=\"dataframe\">\n",
       "  <thead>\n",
       "    <tr style=\"text-align: right;\">\n",
       "      <th></th>\n",
       "      <th>cement</th>\n",
       "      <th>slag</th>\n",
       "      <th>flyash</th>\n",
       "      <th>water</th>\n",
       "      <th>superplasticizer</th>\n",
       "      <th>coarseaggregate</th>\n",
       "      <th>fineaggregate</th>\n",
       "      <th>age</th>\n",
       "      <th>csMPa</th>\n",
       "    </tr>\n",
       "  </thead>\n",
       "  <tbody>\n",
       "    <tr>\n",
       "      <th>0</th>\n",
       "      <td>540.0</td>\n",
       "      <td>0.0</td>\n",
       "      <td>0.0</td>\n",
       "      <td>162.0</td>\n",
       "      <td>2.5</td>\n",
       "      <td>1040.0</td>\n",
       "      <td>676.0</td>\n",
       "      <td>28</td>\n",
       "      <td>79.99</td>\n",
       "    </tr>\n",
       "    <tr>\n",
       "      <th>1</th>\n",
       "      <td>540.0</td>\n",
       "      <td>0.0</td>\n",
       "      <td>0.0</td>\n",
       "      <td>162.0</td>\n",
       "      <td>2.5</td>\n",
       "      <td>1055.0</td>\n",
       "      <td>676.0</td>\n",
       "      <td>28</td>\n",
       "      <td>61.89</td>\n",
       "    </tr>\n",
       "    <tr>\n",
       "      <th>2</th>\n",
       "      <td>332.5</td>\n",
       "      <td>142.5</td>\n",
       "      <td>0.0</td>\n",
       "      <td>228.0</td>\n",
       "      <td>0.0</td>\n",
       "      <td>932.0</td>\n",
       "      <td>594.0</td>\n",
       "      <td>270</td>\n",
       "      <td>40.27</td>\n",
       "    </tr>\n",
       "    <tr>\n",
       "      <th>3</th>\n",
       "      <td>332.5</td>\n",
       "      <td>142.5</td>\n",
       "      <td>0.0</td>\n",
       "      <td>228.0</td>\n",
       "      <td>0.0</td>\n",
       "      <td>932.0</td>\n",
       "      <td>594.0</td>\n",
       "      <td>365</td>\n",
       "      <td>41.05</td>\n",
       "    </tr>\n",
       "    <tr>\n",
       "      <th>4</th>\n",
       "      <td>198.6</td>\n",
       "      <td>132.4</td>\n",
       "      <td>0.0</td>\n",
       "      <td>192.0</td>\n",
       "      <td>0.0</td>\n",
       "      <td>978.4</td>\n",
       "      <td>825.5</td>\n",
       "      <td>360</td>\n",
       "      <td>44.30</td>\n",
       "    </tr>\n",
       "  </tbody>\n",
       "</table>\n",
       "</div>"
      ],
      "text/plain": [
       "   cement   slag  flyash  water  superplasticizer  coarseaggregate  \\\n",
       "0   540.0    0.0     0.0  162.0               2.5           1040.0   \n",
       "1   540.0    0.0     0.0  162.0               2.5           1055.0   \n",
       "2   332.5  142.5     0.0  228.0               0.0            932.0   \n",
       "3   332.5  142.5     0.0  228.0               0.0            932.0   \n",
       "4   198.6  132.4     0.0  192.0               0.0            978.4   \n",
       "\n",
       "   fineaggregate  age  csMPa  \n",
       "0          676.0   28  79.99  \n",
       "1          676.0   28  61.89  \n",
       "2          594.0  270  40.27  \n",
       "3          594.0  365  41.05  \n",
       "4          825.5  360  44.30  "
      ]
     },
     "execution_count": 3,
     "metadata": {},
     "output_type": "execute_result"
    }
   ],
   "source": [
    "df.head(5)"
   ]
  },
  {
   "cell_type": "markdown",
   "metadata": {},
   "source": [
    "Going over the categories:\n",
    "- cement: kg in a m3 mixture\n",
    "- slag: kg in a m3 mixture\n",
    "- flyash: kg in a m3 mixture\n",
    "- water: kg in a m3 mixture\n",
    "- superplasticizer: kg in a m3 mixture\n",
    "- coarseaggregate: kg in a m3 mixture\n",
    "- fineaggregate: kg in a m3 mixture\n",
    "- age: in days\n",
    "- csMPa: compressive strength in MPa"
   ]
  },
  {
   "cell_type": "code",
   "execution_count": 4,
   "metadata": {},
   "outputs": [
    {
     "data": {
      "text/plain": [
       "(1030, 9)"
      ]
     },
     "execution_count": 4,
     "metadata": {},
     "output_type": "execute_result"
    }
   ],
   "source": [
    "#Get shape of dataset\n",
    "df.shape"
   ]
  },
  {
   "cell_type": "code",
   "execution_count": 5,
   "metadata": {},
   "outputs": [
    {
     "data": {
      "text/plain": [
       "cement              float64\n",
       "slag                float64\n",
       "flyash              float64\n",
       "water               float64\n",
       "superplasticizer    float64\n",
       "coarseaggregate     float64\n",
       "fineaggregate       float64\n",
       "age                   int64\n",
       "csMPa               float64\n",
       "dtype: object"
      ]
     },
     "execution_count": 5,
     "metadata": {},
     "output_type": "execute_result"
    }
   ],
   "source": [
    "#Describe type\n",
    "df.dtypes"
   ]
  },
  {
   "cell_type": "code",
   "execution_count": 6,
   "metadata": {},
   "outputs": [
    {
     "data": {
      "text/html": [
       "<div>\n",
       "<style scoped>\n",
       "    .dataframe tbody tr th:only-of-type {\n",
       "        vertical-align: middle;\n",
       "    }\n",
       "\n",
       "    .dataframe tbody tr th {\n",
       "        vertical-align: top;\n",
       "    }\n",
       "\n",
       "    .dataframe thead th {\n",
       "        text-align: right;\n",
       "    }\n",
       "</style>\n",
       "<table border=\"1\" class=\"dataframe\">\n",
       "  <thead>\n",
       "    <tr style=\"text-align: right;\">\n",
       "      <th></th>\n",
       "      <th>cement</th>\n",
       "      <th>slag</th>\n",
       "      <th>flyash</th>\n",
       "      <th>water</th>\n",
       "      <th>superplasticizer</th>\n",
       "      <th>coarseaggregate</th>\n",
       "      <th>fineaggregate</th>\n",
       "      <th>age</th>\n",
       "      <th>csMPa</th>\n",
       "    </tr>\n",
       "  </thead>\n",
       "  <tbody>\n",
       "    <tr>\n",
       "      <th>count</th>\n",
       "      <td>1030.000000</td>\n",
       "      <td>1030.000000</td>\n",
       "      <td>1030.000000</td>\n",
       "      <td>1030.000000</td>\n",
       "      <td>1030.000000</td>\n",
       "      <td>1030.000000</td>\n",
       "      <td>1030.000000</td>\n",
       "      <td>1030.000000</td>\n",
       "      <td>1030.000000</td>\n",
       "    </tr>\n",
       "    <tr>\n",
       "      <th>mean</th>\n",
       "      <td>281.167864</td>\n",
       "      <td>73.895825</td>\n",
       "      <td>54.188350</td>\n",
       "      <td>181.567282</td>\n",
       "      <td>6.204660</td>\n",
       "      <td>972.918932</td>\n",
       "      <td>773.580485</td>\n",
       "      <td>45.662136</td>\n",
       "      <td>35.817961</td>\n",
       "    </tr>\n",
       "    <tr>\n",
       "      <th>std</th>\n",
       "      <td>104.506364</td>\n",
       "      <td>86.279342</td>\n",
       "      <td>63.997004</td>\n",
       "      <td>21.354219</td>\n",
       "      <td>5.973841</td>\n",
       "      <td>77.753954</td>\n",
       "      <td>80.175980</td>\n",
       "      <td>63.169912</td>\n",
       "      <td>16.705742</td>\n",
       "    </tr>\n",
       "    <tr>\n",
       "      <th>min</th>\n",
       "      <td>102.000000</td>\n",
       "      <td>0.000000</td>\n",
       "      <td>0.000000</td>\n",
       "      <td>121.800000</td>\n",
       "      <td>0.000000</td>\n",
       "      <td>801.000000</td>\n",
       "      <td>594.000000</td>\n",
       "      <td>1.000000</td>\n",
       "      <td>2.330000</td>\n",
       "    </tr>\n",
       "    <tr>\n",
       "      <th>25%</th>\n",
       "      <td>192.375000</td>\n",
       "      <td>0.000000</td>\n",
       "      <td>0.000000</td>\n",
       "      <td>164.900000</td>\n",
       "      <td>0.000000</td>\n",
       "      <td>932.000000</td>\n",
       "      <td>730.950000</td>\n",
       "      <td>7.000000</td>\n",
       "      <td>23.710000</td>\n",
       "    </tr>\n",
       "    <tr>\n",
       "      <th>50%</th>\n",
       "      <td>272.900000</td>\n",
       "      <td>22.000000</td>\n",
       "      <td>0.000000</td>\n",
       "      <td>185.000000</td>\n",
       "      <td>6.400000</td>\n",
       "      <td>968.000000</td>\n",
       "      <td>779.500000</td>\n",
       "      <td>28.000000</td>\n",
       "      <td>34.445000</td>\n",
       "    </tr>\n",
       "    <tr>\n",
       "      <th>75%</th>\n",
       "      <td>350.000000</td>\n",
       "      <td>142.950000</td>\n",
       "      <td>118.300000</td>\n",
       "      <td>192.000000</td>\n",
       "      <td>10.200000</td>\n",
       "      <td>1029.400000</td>\n",
       "      <td>824.000000</td>\n",
       "      <td>56.000000</td>\n",
       "      <td>46.135000</td>\n",
       "    </tr>\n",
       "    <tr>\n",
       "      <th>max</th>\n",
       "      <td>540.000000</td>\n",
       "      <td>359.400000</td>\n",
       "      <td>200.100000</td>\n",
       "      <td>247.000000</td>\n",
       "      <td>32.200000</td>\n",
       "      <td>1145.000000</td>\n",
       "      <td>992.600000</td>\n",
       "      <td>365.000000</td>\n",
       "      <td>82.600000</td>\n",
       "    </tr>\n",
       "  </tbody>\n",
       "</table>\n",
       "</div>"
      ],
      "text/plain": [
       "            cement         slag       flyash        water  superplasticizer  \\\n",
       "count  1030.000000  1030.000000  1030.000000  1030.000000       1030.000000   \n",
       "mean    281.167864    73.895825    54.188350   181.567282          6.204660   \n",
       "std     104.506364    86.279342    63.997004    21.354219          5.973841   \n",
       "min     102.000000     0.000000     0.000000   121.800000          0.000000   \n",
       "25%     192.375000     0.000000     0.000000   164.900000          0.000000   \n",
       "50%     272.900000    22.000000     0.000000   185.000000          6.400000   \n",
       "75%     350.000000   142.950000   118.300000   192.000000         10.200000   \n",
       "max     540.000000   359.400000   200.100000   247.000000         32.200000   \n",
       "\n",
       "       coarseaggregate  fineaggregate          age        csMPa  \n",
       "count      1030.000000    1030.000000  1030.000000  1030.000000  \n",
       "mean        972.918932     773.580485    45.662136    35.817961  \n",
       "std          77.753954      80.175980    63.169912    16.705742  \n",
       "min         801.000000     594.000000     1.000000     2.330000  \n",
       "25%         932.000000     730.950000     7.000000    23.710000  \n",
       "50%         968.000000     779.500000    28.000000    34.445000  \n",
       "75%        1029.400000     824.000000    56.000000    46.135000  \n",
       "max        1145.000000     992.600000   365.000000    82.600000  "
      ]
     },
     "execution_count": 6,
     "metadata": {},
     "output_type": "execute_result"
    }
   ],
   "source": [
    "#Describe features\n",
    "df.describe()"
   ]
  },
  {
   "cell_type": "code",
   "execution_count": 7,
   "metadata": {},
   "outputs": [
    {
     "data": {
      "text/plain": [
       "False"
      ]
     },
     "execution_count": 7,
     "metadata": {},
     "output_type": "execute_result"
    }
   ],
   "source": [
    "#Check forr nulls:\n",
    "df.isnull().values.any()"
   ]
  },
  {
   "cell_type": "markdown",
   "metadata": {},
   "source": [
    "## Exploring the Data"
   ]
  },
  {
   "cell_type": "code",
   "execution_count": 8,
   "metadata": {},
   "outputs": [
    {
     "name": "stdout",
     "output_type": "stream",
     "text": [
      "[  0  10  20  30  40  50  60  70  80  90 100 110]\n"
     ]
    }
   ],
   "source": [
    "#Create bins for concrete strength\n",
    "cs_bin = np.arange(0, 120, 10)\n",
    "print(cs_bin)"
   ]
  },
  {
   "cell_type": "code",
   "execution_count": 9,
   "metadata": {},
   "outputs": [
    {
     "data": {
      "image/png": "[encoded data removed]",
      "text/plain": [
       "<matplotlib.figure.Figure at 0xb56bb70>"
      ]
     },
     "metadata": {},
     "output_type": "display_data"
    }
   ],
   "source": [
    "plt.hist(df['csMPa'], bins= cs_bin)\n",
    "plt.xlabel('Count')\n",
    "plt.ylabel(\"f'c\")\n",
    "plt.title('Concrete Compressive Strength (MPa)')\n",
    "plt.show()"
   ]
  },
  {
   "cell_type": "markdown",
   "metadata": {},
   "source": [
    "Distribution of concrete appears to be normal."
   ]
  },
  {
   "cell_type": "code",
   "execution_count": 10,
   "metadata": {},
   "outputs": [
    {
     "name": "stdout",
     "output_type": "stream",
     "text": [
      "                    cement      slag    flyash     water  superplasticizer  \\\n",
      "cement            1.000000 -0.275216 -0.397467 -0.081587          0.092386   \n",
      "slag             -0.275216  1.000000 -0.323580  0.107252          0.043270   \n",
      "flyash           -0.397467 -0.323580  1.000000 -0.256984          0.377503   \n",
      "water            -0.081587  0.107252 -0.256984  1.000000         -0.657533   \n",
      "superplasticizer  0.092386  0.043270  0.377503 -0.657533          1.000000   \n",
      "coarseaggregate  -0.109349 -0.283999 -0.009961 -0.182294         -0.265999   \n",
      "fineaggregate    -0.222718 -0.281603  0.079108 -0.450661          0.222691   \n",
      "age               0.081946 -0.044246 -0.154371  0.277618         -0.192700   \n",
      "csMPa             0.497832  0.134829 -0.105755 -0.289633          0.366079   \n",
      "\n",
      "                  coarseaggregate  fineaggregate       age     csMPa  \n",
      "cement                  -0.109349      -0.222718  0.081946  0.497832  \n",
      "slag                    -0.283999      -0.281603 -0.044246  0.134829  \n",
      "flyash                  -0.009961       0.079108 -0.154371 -0.105755  \n",
      "water                   -0.182294      -0.450661  0.277618 -0.289633  \n",
      "superplasticizer        -0.265999       0.222691 -0.192700  0.366079  \n",
      "coarseaggregate          1.000000      -0.178481 -0.003016 -0.164935  \n",
      "fineaggregate           -0.178481       1.000000 -0.156095 -0.167241  \n",
      "age                     -0.003016      -0.156095  1.000000  0.328873  \n",
      "csMPa                   -0.164935      -0.167241  0.328873  1.000000  \n"
     ]
    }
   ],
   "source": [
    "#Assume a Pearson correlation coefficient\n",
    "pears= df.corr(method='pearson')\n",
    "print(pears)"
   ]
  },
  {
   "cell_type": "code",
   "execution_count": 11,
   "metadata": {},
   "outputs": [
    {
     "data": {
      "text/plain": [
       "<matplotlib.axes._subplots.AxesSubplot at 0xb7e95f8>"
      ]
     },
     "execution_count": 11,
     "metadata": {},
     "output_type": "execute_result"
    },
    {
     "data": {
      "image/png": "[encoded data removed]",
      "text/plain": [
       "<matplotlib.figure.Figure at 0xb5b2c18>"
      ]
     },
     "metadata": {},
     "output_type": "display_data"
    }
   ],
   "source": [
    "#Define mask for correlation plot\n",
    "mask_corr = np.zeros_like(pears)\n",
    "#Use lower half of square\n",
    "mask_corr[np.triu_indices_from(mask_corr)] = True\n",
    "#Plot correlation\n",
    "sns.heatmap(pears, fmt = '1.0g', linewidths= 0.5, square= True, annot= True, mask= mask_corr)"
   ]
  },
  {
   "cell_type": "markdown",
   "metadata": {},
   "source": [
    "Looking at the bottom row, compressive strength is positevely correlated with cement, superplasticizier content, and age. Water content has a negative effect on concrete strength."
   ]
  },
  {
   "cell_type": "markdown",
   "metadata": {},
   "source": [
    "## Cleaning the Data"
   ]
  },
  {
   "cell_type": "markdown",
   "metadata": {},
   "source": [
    "The physical quantities given in the dataset are in units of mass. What really matters is the proportion of these materials in the total mixture.<br>\n",
    "In addition, the American Concrete Institute (ACI) Building Code specifies quantities a portion of the total weight. In case this data is used for other purposes such as selecting concrete based on exposure class, it is better to represent the weights as fractions of the total weight. <br>\n",
    "Assume that the features given account for the entire weight of the mixture. <br>\n",
    "Assume water mass does not include curing or evaporation.\n",
    "\n"
   ]
  },
  {
   "cell_type": "code",
   "execution_count": 12,
   "metadata": {},
   "outputs": [
    {
     "name": "stdout",
     "output_type": "stream",
     "text": [
      "['cement', 'slag', 'flyash', 'water', 'superplasticizer', 'coarseaggregate', 'fineaggregate']\n"
     ]
    }
   ],
   "source": [
    "#Store column names in list\n",
    "col_weights = df.columns.tolist()\n",
    "#Drop the age\n",
    "col_weights.remove('age')\n",
    "#Drop the compressive strength\n",
    "col_weights.remove('csMPa')\n",
    "print(col_weights)"
   ]
  },
  {
   "cell_type": "code",
   "execution_count": 13,
   "metadata": {},
   "outputs": [
    {
     "data": {
      "text/html": [
       "<div>\n",
       "<style scoped>\n",
       "    .dataframe tbody tr th:only-of-type {\n",
       "        vertical-align: middle;\n",
       "    }\n",
       "\n",
       "    .dataframe tbody tr th {\n",
       "        vertical-align: top;\n",
       "    }\n",
       "\n",
       "    .dataframe thead th {\n",
       "        text-align: right;\n",
       "    }\n",
       "</style>\n",
       "<table border=\"1\" class=\"dataframe\">\n",
       "  <thead>\n",
       "    <tr style=\"text-align: right;\">\n",
       "      <th></th>\n",
       "      <th>cement</th>\n",
       "      <th>slag</th>\n",
       "      <th>flyash</th>\n",
       "      <th>water</th>\n",
       "      <th>superplasticizer</th>\n",
       "      <th>coarseaggregate</th>\n",
       "      <th>fineaggregate</th>\n",
       "    </tr>\n",
       "  </thead>\n",
       "  <tbody>\n",
       "    <tr>\n",
       "      <th>0</th>\n",
       "      <td>540.0</td>\n",
       "      <td>0.0</td>\n",
       "      <td>0.0</td>\n",
       "      <td>162.0</td>\n",
       "      <td>2.5</td>\n",
       "      <td>1040.0</td>\n",
       "      <td>676.0</td>\n",
       "    </tr>\n",
       "    <tr>\n",
       "      <th>1</th>\n",
       "      <td>540.0</td>\n",
       "      <td>0.0</td>\n",
       "      <td>0.0</td>\n",
       "      <td>162.0</td>\n",
       "      <td>2.5</td>\n",
       "      <td>1055.0</td>\n",
       "      <td>676.0</td>\n",
       "    </tr>\n",
       "    <tr>\n",
       "      <th>2</th>\n",
       "      <td>332.5</td>\n",
       "      <td>142.5</td>\n",
       "      <td>0.0</td>\n",
       "      <td>228.0</td>\n",
       "      <td>0.0</td>\n",
       "      <td>932.0</td>\n",
       "      <td>594.0</td>\n",
       "    </tr>\n",
       "    <tr>\n",
       "      <th>3</th>\n",
       "      <td>332.5</td>\n",
       "      <td>142.5</td>\n",
       "      <td>0.0</td>\n",
       "      <td>228.0</td>\n",
       "      <td>0.0</td>\n",
       "      <td>932.0</td>\n",
       "      <td>594.0</td>\n",
       "    </tr>\n",
       "    <tr>\n",
       "      <th>4</th>\n",
       "      <td>198.6</td>\n",
       "      <td>132.4</td>\n",
       "      <td>0.0</td>\n",
       "      <td>192.0</td>\n",
       "      <td>0.0</td>\n",
       "      <td>978.4</td>\n",
       "      <td>825.5</td>\n",
       "    </tr>\n",
       "  </tbody>\n",
       "</table>\n",
       "</div>"
      ],
      "text/plain": [
       "   cement   slag  flyash  water  superplasticizer  coarseaggregate  \\\n",
       "0   540.0    0.0     0.0  162.0               2.5           1040.0   \n",
       "1   540.0    0.0     0.0  162.0               2.5           1055.0   \n",
       "2   332.5  142.5     0.0  228.0               0.0            932.0   \n",
       "3   332.5  142.5     0.0  228.0               0.0            932.0   \n",
       "4   198.6  132.4     0.0  192.0               0.0            978.4   \n",
       "\n",
       "   fineaggregate  \n",
       "0          676.0  \n",
       "1          676.0  \n",
       "2          594.0  \n",
       "3          594.0  \n",
       "4          825.5  "
      ]
     },
     "execution_count": 13,
     "metadata": {},
     "output_type": "execute_result"
    }
   ],
   "source": [
    "#Create copy of dataframe\n",
    "df_weights = df\n",
    "#Drop age and weight\n",
    "df_weights = df_weights.drop(columns = ['age', 'csMPa']);\n",
    "df_weights.head()"
   ]
  },
  {
   "cell_type": "code",
   "execution_count": 14,
   "metadata": {},
   "outputs": [],
   "source": [
    "#Get the weight of each mixture\n",
    "mixture_weights = df_weights.sum(axis = 1)"
   ]
  },
  {
   "cell_type": "code",
   "execution_count": 16,
   "metadata": {},
   "outputs": [],
   "source": [
    "#Add the mixture weight to dataframe\n",
    "df['mix_weight'] = mixture_weights"
   ]
  },
  {
   "cell_type": "code",
   "execution_count": 17,
   "metadata": {},
   "outputs": [
    {
     "data": {
      "text/html": [
       "<div>\n",
       "<style scoped>\n",
       "    .dataframe tbody tr th:only-of-type {\n",
       "        vertical-align: middle;\n",
       "    }\n",
       "\n",
       "    .dataframe tbody tr th {\n",
       "        vertical-align: top;\n",
       "    }\n",
       "\n",
       "    .dataframe thead th {\n",
       "        text-align: right;\n",
       "    }\n",
       "</style>\n",
       "<table border=\"1\" class=\"dataframe\">\n",
       "  <thead>\n",
       "    <tr style=\"text-align: right;\">\n",
       "      <th></th>\n",
       "      <th>cement</th>\n",
       "      <th>slag</th>\n",
       "      <th>flyash</th>\n",
       "      <th>water</th>\n",
       "      <th>superplasticizer</th>\n",
       "      <th>coarseaggregate</th>\n",
       "      <th>fineaggregate</th>\n",
       "    </tr>\n",
       "  </thead>\n",
       "  <tbody>\n",
       "    <tr>\n",
       "      <th>0</th>\n",
       "      <td>0.223094</td>\n",
       "      <td>0.00000</td>\n",
       "      <td>0.0</td>\n",
       "      <td>0.066928</td>\n",
       "      <td>0.001033</td>\n",
       "      <td>0.429663</td>\n",
       "      <td>0.279281</td>\n",
       "    </tr>\n",
       "    <tr>\n",
       "      <th>1</th>\n",
       "      <td>0.221720</td>\n",
       "      <td>0.00000</td>\n",
       "      <td>0.0</td>\n",
       "      <td>0.066516</td>\n",
       "      <td>0.001026</td>\n",
       "      <td>0.433176</td>\n",
       "      <td>0.277561</td>\n",
       "    </tr>\n",
       "    <tr>\n",
       "      <th>2</th>\n",
       "      <td>0.149170</td>\n",
       "      <td>0.06393</td>\n",
       "      <td>0.0</td>\n",
       "      <td>0.102288</td>\n",
       "      <td>0.000000</td>\n",
       "      <td>0.418125</td>\n",
       "      <td>0.266487</td>\n",
       "    </tr>\n",
       "    <tr>\n",
       "      <th>3</th>\n",
       "      <td>0.149170</td>\n",
       "      <td>0.06393</td>\n",
       "      <td>0.0</td>\n",
       "      <td>0.102288</td>\n",
       "      <td>0.000000</td>\n",
       "      <td>0.418125</td>\n",
       "      <td>0.266487</td>\n",
       "    </tr>\n",
       "    <tr>\n",
       "      <th>4</th>\n",
       "      <td>0.085350</td>\n",
       "      <td>0.05690</td>\n",
       "      <td>0.0</td>\n",
       "      <td>0.082513</td>\n",
       "      <td>0.000000</td>\n",
       "      <td>0.420474</td>\n",
       "      <td>0.354764</td>\n",
       "    </tr>\n",
       "  </tbody>\n",
       "</table>\n",
       "</div>"
      ],
      "text/plain": [
       "     cement     slag  flyash     water  superplasticizer  coarseaggregate  \\\n",
       "0  0.223094  0.00000     0.0  0.066928          0.001033         0.429663   \n",
       "1  0.221720  0.00000     0.0  0.066516          0.001026         0.433176   \n",
       "2  0.149170  0.06393     0.0  0.102288          0.000000         0.418125   \n",
       "3  0.149170  0.06393     0.0  0.102288          0.000000         0.418125   \n",
       "4  0.085350  0.05690     0.0  0.082513          0.000000         0.420474   \n",
       "\n",
       "   fineaggregate  \n",
       "0       0.279281  \n",
       "1       0.277561  \n",
       "2       0.266487  \n",
       "3       0.266487  \n",
       "4       0.354764  "
      ]
     },
     "execution_count": 17,
     "metadata": {},
     "output_type": "execute_result"
    }
   ],
   "source": [
    "#Divide the weights\n",
    "df_weights = df_weights.div(mixture_weights, axis ='index');\n",
    "df_weights.head()"
   ]
  },
  {
   "cell_type": "code",
   "execution_count": 18,
   "metadata": {},
   "outputs": [
    {
     "data": {
      "text/html": [
       "<div>\n",
       "<style scoped>\n",
       "    .dataframe tbody tr th:only-of-type {\n",
       "        vertical-align: middle;\n",
       "    }\n",
       "\n",
       "    .dataframe tbody tr th {\n",
       "        vertical-align: top;\n",
       "    }\n",
       "\n",
       "    .dataframe thead th {\n",
       "        text-align: right;\n",
       "    }\n",
       "</style>\n",
       "<table border=\"1\" class=\"dataframe\">\n",
       "  <thead>\n",
       "    <tr style=\"text-align: right;\">\n",
       "      <th></th>\n",
       "      <th>cement</th>\n",
       "      <th>slag</th>\n",
       "      <th>flyash</th>\n",
       "      <th>water</th>\n",
       "      <th>superplasticizer</th>\n",
       "      <th>coarseaggregate</th>\n",
       "      <th>fineaggregate</th>\n",
       "      <th>age</th>\n",
       "      <th>csMPa</th>\n",
       "      <th>mix_weight</th>\n",
       "    </tr>\n",
       "  </thead>\n",
       "  <tbody>\n",
       "    <tr>\n",
       "      <th>0</th>\n",
       "      <td>0.223094</td>\n",
       "      <td>0.00000</td>\n",
       "      <td>0.0</td>\n",
       "      <td>0.066928</td>\n",
       "      <td>0.001033</td>\n",
       "      <td>0.429663</td>\n",
       "      <td>0.279281</td>\n",
       "      <td>28</td>\n",
       "      <td>79.99</td>\n",
       "      <td>2420.5</td>\n",
       "    </tr>\n",
       "    <tr>\n",
       "      <th>1</th>\n",
       "      <td>0.221720</td>\n",
       "      <td>0.00000</td>\n",
       "      <td>0.0</td>\n",
       "      <td>0.066516</td>\n",
       "      <td>0.001026</td>\n",
       "      <td>0.433176</td>\n",
       "      <td>0.277561</td>\n",
       "      <td>28</td>\n",
       "      <td>61.89</td>\n",
       "      <td>2435.5</td>\n",
       "    </tr>\n",
       "    <tr>\n",
       "      <th>2</th>\n",
       "      <td>0.149170</td>\n",
       "      <td>0.06393</td>\n",
       "      <td>0.0</td>\n",
       "      <td>0.102288</td>\n",
       "      <td>0.000000</td>\n",
       "      <td>0.418125</td>\n",
       "      <td>0.266487</td>\n",
       "      <td>270</td>\n",
       "      <td>40.27</td>\n",
       "      <td>2229.0</td>\n",
       "    </tr>\n",
       "    <tr>\n",
       "      <th>3</th>\n",
       "      <td>0.149170</td>\n",
       "      <td>0.06393</td>\n",
       "      <td>0.0</td>\n",
       "      <td>0.102288</td>\n",
       "      <td>0.000000</td>\n",
       "      <td>0.418125</td>\n",
       "      <td>0.266487</td>\n",
       "      <td>365</td>\n",
       "      <td>41.05</td>\n",
       "      <td>2229.0</td>\n",
       "    </tr>\n",
       "    <tr>\n",
       "      <th>4</th>\n",
       "      <td>0.085350</td>\n",
       "      <td>0.05690</td>\n",
       "      <td>0.0</td>\n",
       "      <td>0.082513</td>\n",
       "      <td>0.000000</td>\n",
       "      <td>0.420474</td>\n",
       "      <td>0.354764</td>\n",
       "      <td>360</td>\n",
       "      <td>44.30</td>\n",
       "      <td>2326.9</td>\n",
       "    </tr>\n",
       "  </tbody>\n",
       "</table>\n",
       "</div>"
      ],
      "text/plain": [
       "     cement     slag  flyash     water  superplasticizer  coarseaggregate  \\\n",
       "0  0.223094  0.00000     0.0  0.066928          0.001033         0.429663   \n",
       "1  0.221720  0.00000     0.0  0.066516          0.001026         0.433176   \n",
       "2  0.149170  0.06393     0.0  0.102288          0.000000         0.418125   \n",
       "3  0.149170  0.06393     0.0  0.102288          0.000000         0.418125   \n",
       "4  0.085350  0.05690     0.0  0.082513          0.000000         0.420474   \n",
       "\n",
       "   fineaggregate  age  csMPa  mix_weight  \n",
       "0       0.279281   28  79.99      2420.5  \n",
       "1       0.277561   28  61.89      2435.5  \n",
       "2       0.266487  270  40.27      2229.0  \n",
       "3       0.266487  365  41.05      2229.0  \n",
       "4       0.354764  360  44.30      2326.9  "
      ]
     },
     "execution_count": 18,
     "metadata": {},
     "output_type": "execute_result"
    }
   ],
   "source": [
    "#Overwrite the existing values in original df\n",
    "df.update(df_weights, overwrite=True);\n",
    "df.head()"
   ]
  },
  {
   "cell_type": "code",
   "execution_count": 19,
   "metadata": {},
   "outputs": [
    {
     "data": {
      "text/html": [
       "<div>\n",
       "<style scoped>\n",
       "    .dataframe tbody tr th:only-of-type {\n",
       "        vertical-align: middle;\n",
       "    }\n",
       "\n",
       "    .dataframe tbody tr th {\n",
       "        vertical-align: top;\n",
       "    }\n",
       "\n",
       "    .dataframe thead th {\n",
       "        text-align: right;\n",
       "    }\n",
       "</style>\n",
       "<table border=\"1\" class=\"dataframe\">\n",
       "  <thead>\n",
       "    <tr style=\"text-align: right;\">\n",
       "      <th></th>\n",
       "      <th>cement</th>\n",
       "      <th>slag</th>\n",
       "      <th>flyash</th>\n",
       "      <th>water</th>\n",
       "      <th>superplasticizer</th>\n",
       "      <th>coarseaggregate</th>\n",
       "      <th>fineaggregate</th>\n",
       "      <th>age</th>\n",
       "      <th>csMPa</th>\n",
       "      <th>mix_weight</th>\n",
       "    </tr>\n",
       "  </thead>\n",
       "  <tbody>\n",
       "    <tr>\n",
       "      <th>count</th>\n",
       "      <td>1030.000000</td>\n",
       "      <td>1030.000000</td>\n",
       "      <td>1030.000000</td>\n",
       "      <td>1030.000000</td>\n",
       "      <td>1030.000000</td>\n",
       "      <td>1030.000000</td>\n",
       "      <td>1030.000000</td>\n",
       "      <td>1030.000000</td>\n",
       "      <td>1030.000000</td>\n",
       "      <td>1030.000000</td>\n",
       "    </tr>\n",
       "    <tr>\n",
       "      <th>mean</th>\n",
       "      <td>0.119553</td>\n",
       "      <td>0.031643</td>\n",
       "      <td>0.023174</td>\n",
       "      <td>0.077727</td>\n",
       "      <td>0.002621</td>\n",
       "      <td>0.415165</td>\n",
       "      <td>0.330117</td>\n",
       "      <td>45.662136</td>\n",
       "      <td>35.817961</td>\n",
       "      <td>2343.523398</td>\n",
       "    </tr>\n",
       "    <tr>\n",
       "      <th>std</th>\n",
       "      <td>0.043101</td>\n",
       "      <td>0.036961</td>\n",
       "      <td>0.027462</td>\n",
       "      <td>0.010900</td>\n",
       "      <td>0.002495</td>\n",
       "      <td>0.031020</td>\n",
       "      <td>0.033244</td>\n",
       "      <td>63.169912</td>\n",
       "      <td>16.705742</td>\n",
       "      <td>65.365356</td>\n",
       "    </tr>\n",
       "    <tr>\n",
       "      <th>min</th>\n",
       "      <td>0.044815</td>\n",
       "      <td>0.000000</td>\n",
       "      <td>0.000000</td>\n",
       "      <td>0.051390</td>\n",
       "      <td>0.000000</td>\n",
       "      <td>0.345890</td>\n",
       "      <td>0.247971</td>\n",
       "      <td>1.000000</td>\n",
       "      <td>2.330000</td>\n",
       "      <td>2194.600000</td>\n",
       "    </tr>\n",
       "    <tr>\n",
       "      <th>25%</th>\n",
       "      <td>0.082058</td>\n",
       "      <td>0.000000</td>\n",
       "      <td>0.000000</td>\n",
       "      <td>0.069538</td>\n",
       "      <td>0.000000</td>\n",
       "      <td>0.392294</td>\n",
       "      <td>0.311208</td>\n",
       "      <td>7.000000</td>\n",
       "      <td>23.710000</td>\n",
       "      <td>2291.150000</td>\n",
       "    </tr>\n",
       "    <tr>\n",
       "      <th>50%</th>\n",
       "      <td>0.115282</td>\n",
       "      <td>0.009455</td>\n",
       "      <td>0.000000</td>\n",
       "      <td>0.078623</td>\n",
       "      <td>0.002727</td>\n",
       "      <td>0.420464</td>\n",
       "      <td>0.330542</td>\n",
       "      <td>28.000000</td>\n",
       "      <td>34.445000</td>\n",
       "      <td>2349.100000</td>\n",
       "    </tr>\n",
       "    <tr>\n",
       "      <th>75%</th>\n",
       "      <td>0.149170</td>\n",
       "      <td>0.061972</td>\n",
       "      <td>0.050335</td>\n",
       "      <td>0.083861</td>\n",
       "      <td>0.004351</td>\n",
       "      <td>0.437598</td>\n",
       "      <td>0.354096</td>\n",
       "      <td>56.000000</td>\n",
       "      <td>46.135000</td>\n",
       "      <td>2390.400000</td>\n",
       "    </tr>\n",
       "    <tr>\n",
       "      <th>max</th>\n",
       "      <td>0.225406</td>\n",
       "      <td>0.150339</td>\n",
       "      <td>0.088838</td>\n",
       "      <td>0.112222</td>\n",
       "      <td>0.013149</td>\n",
       "      <td>0.479846</td>\n",
       "      <td>0.414147</td>\n",
       "      <td>365.000000</td>\n",
       "      <td>82.600000</td>\n",
       "      <td>2551.000000</td>\n",
       "    </tr>\n",
       "  </tbody>\n",
       "</table>\n",
       "</div>"
      ],
      "text/plain": [
       "            cement         slag       flyash        water  superplasticizer  \\\n",
       "count  1030.000000  1030.000000  1030.000000  1030.000000       1030.000000   \n",
       "mean      0.119553     0.031643     0.023174     0.077727          0.002621   \n",
       "std       0.043101     0.036961     0.027462     0.010900          0.002495   \n",
       "min       0.044815     0.000000     0.000000     0.051390          0.000000   \n",
       "25%       0.082058     0.000000     0.000000     0.069538          0.000000   \n",
       "50%       0.115282     0.009455     0.000000     0.078623          0.002727   \n",
       "75%       0.149170     0.061972     0.050335     0.083861          0.004351   \n",
       "max       0.225406     0.150339     0.088838     0.112222          0.013149   \n",
       "\n",
       "       coarseaggregate  fineaggregate          age        csMPa   mix_weight  \n",
       "count      1030.000000    1030.000000  1030.000000  1030.000000  1030.000000  \n",
       "mean          0.415165       0.330117    45.662136    35.817961  2343.523398  \n",
       "std           0.031020       0.033244    63.169912    16.705742    65.365356  \n",
       "min           0.345890       0.247971     1.000000     2.330000  2194.600000  \n",
       "25%           0.392294       0.311208     7.000000    23.710000  2291.150000  \n",
       "50%           0.420464       0.330542    28.000000    34.445000  2349.100000  \n",
       "75%           0.437598       0.354096    56.000000    46.135000  2390.400000  \n",
       "max           0.479846       0.414147   365.000000    82.600000  2551.000000  "
      ]
     },
     "execution_count": 19,
     "metadata": {},
     "output_type": "execute_result"
    }
   ],
   "source": [
    "#Describe dataset with proportions\n",
    "df.describe()"
   ]
  },
  {
   "cell_type": "markdown",
   "metadata": {},
   "source": [
    "## Predicting Compressive Strength"
   ]
  },
  {
   "cell_type": "code",
   "execution_count": 20,
   "metadata": {},
   "outputs": [],
   "source": [
    "#Store compressive strength in array\n",
    "fc=df['csMPa']\n",
    "#store features\n",
    "features = df.drop('csMPa', axis= 1)"
   ]
  },
  {
   "cell_type": "code",
   "execution_count": 21,
   "metadata": {},
   "outputs": [
    {
     "data": {
      "text/html": [
       "<div>\n",
       "<style scoped>\n",
       "    .dataframe tbody tr th:only-of-type {\n",
       "        vertical-align: middle;\n",
       "    }\n",
       "\n",
       "    .dataframe tbody tr th {\n",
       "        vertical-align: top;\n",
       "    }\n",
       "\n",
       "    .dataframe thead th {\n",
       "        text-align: right;\n",
       "    }\n",
       "</style>\n",
       "<table border=\"1\" class=\"dataframe\">\n",
       "  <thead>\n",
       "    <tr style=\"text-align: right;\">\n",
       "      <th></th>\n",
       "      <th>cement</th>\n",
       "      <th>slag</th>\n",
       "      <th>flyash</th>\n",
       "      <th>water</th>\n",
       "      <th>superplasticizer</th>\n",
       "      <th>coarseaggregate</th>\n",
       "      <th>fineaggregate</th>\n",
       "      <th>age</th>\n",
       "      <th>mix_weight</th>\n",
       "    </tr>\n",
       "  </thead>\n",
       "  <tbody>\n",
       "    <tr>\n",
       "      <th>0</th>\n",
       "      <td>0.223094</td>\n",
       "      <td>0.00000</td>\n",
       "      <td>0.0</td>\n",
       "      <td>0.066928</td>\n",
       "      <td>0.001033</td>\n",
       "      <td>0.429663</td>\n",
       "      <td>0.279281</td>\n",
       "      <td>28</td>\n",
       "      <td>2420.5</td>\n",
       "    </tr>\n",
       "    <tr>\n",
       "      <th>1</th>\n",
       "      <td>0.221720</td>\n",
       "      <td>0.00000</td>\n",
       "      <td>0.0</td>\n",
       "      <td>0.066516</td>\n",
       "      <td>0.001026</td>\n",
       "      <td>0.433176</td>\n",
       "      <td>0.277561</td>\n",
       "      <td>28</td>\n",
       "      <td>2435.5</td>\n",
       "    </tr>\n",
       "    <tr>\n",
       "      <th>2</th>\n",
       "      <td>0.149170</td>\n",
       "      <td>0.06393</td>\n",
       "      <td>0.0</td>\n",
       "      <td>0.102288</td>\n",
       "      <td>0.000000</td>\n",
       "      <td>0.418125</td>\n",
       "      <td>0.266487</td>\n",
       "      <td>270</td>\n",
       "      <td>2229.0</td>\n",
       "    </tr>\n",
       "    <tr>\n",
       "      <th>3</th>\n",
       "      <td>0.149170</td>\n",
       "      <td>0.06393</td>\n",
       "      <td>0.0</td>\n",
       "      <td>0.102288</td>\n",
       "      <td>0.000000</td>\n",
       "      <td>0.418125</td>\n",
       "      <td>0.266487</td>\n",
       "      <td>365</td>\n",
       "      <td>2229.0</td>\n",
       "    </tr>\n",
       "    <tr>\n",
       "      <th>4</th>\n",
       "      <td>0.085350</td>\n",
       "      <td>0.05690</td>\n",
       "      <td>0.0</td>\n",
       "      <td>0.082513</td>\n",
       "      <td>0.000000</td>\n",
       "      <td>0.420474</td>\n",
       "      <td>0.354764</td>\n",
       "      <td>360</td>\n",
       "      <td>2326.9</td>\n",
       "    </tr>\n",
       "  </tbody>\n",
       "</table>\n",
       "</div>"
      ],
      "text/plain": [
       "     cement     slag  flyash     water  superplasticizer  coarseaggregate  \\\n",
       "0  0.223094  0.00000     0.0  0.066928          0.001033         0.429663   \n",
       "1  0.221720  0.00000     0.0  0.066516          0.001026         0.433176   \n",
       "2  0.149170  0.06393     0.0  0.102288          0.000000         0.418125   \n",
       "3  0.149170  0.06393     0.0  0.102288          0.000000         0.418125   \n",
       "4  0.085350  0.05690     0.0  0.082513          0.000000         0.420474   \n",
       "\n",
       "   fineaggregate  age  mix_weight  \n",
       "0       0.279281   28      2420.5  \n",
       "1       0.277561   28      2435.5  \n",
       "2       0.266487  270      2229.0  \n",
       "3       0.266487  365      2229.0  \n",
       "4       0.354764  360      2326.9  "
      ]
     },
     "execution_count": 21,
     "metadata": {},
     "output_type": "execute_result"
    }
   ],
   "source": [
    "features.head()"
   ]
  },
  {
   "cell_type": "code",
   "execution_count": 22,
   "metadata": {},
   "outputs": [],
   "source": [
    "# Divide into train and test data\n",
    "X_train = features.iloc[:900,]\n",
    "X_test = features.iloc[900:,]\n",
    "y_train = fc[:900,]\n",
    "y_test = fc[900:,]"
   ]
  },
  {
   "cell_type": "markdown",
   "metadata": {},
   "source": [
    "### MLP Regressor"
   ]
  },
  {
   "cell_type": "code",
   "execution_count": 23,
   "metadata": {},
   "outputs": [],
   "source": [
    "#Import MLP regressor\n",
    "from sklearn.neural_network import MLPRegressor\n",
    "#Create the perceptron\n",
    "clf = MLPRegressor(hidden_layer_sizes=(100,100),\n",
    "                  max_iter=5000)\n",
    "#fit the training set to the mlp\n",
    "clf.fit(X_train, y_train);"
   ]
  },
  {
   "cell_type": "code",
   "execution_count": 24,
   "metadata": {},
   "outputs": [],
   "source": [
    "#Store predictions in y_pred\n",
    "y_pred = clf.predict(X_test)"
   ]
  },
  {
   "cell_type": "code",
   "execution_count": 25,
   "metadata": {},
   "outputs": [],
   "source": [
    "#Fix type of y_test from dataframe to array\n",
    "y_test = np.array(y_test)"
   ]
  },
  {
   "cell_type": "code",
   "execution_count": 26,
   "metadata": {},
   "outputs": [],
   "source": [
    "#Store the difference in an array\n",
    "fc_diff = []\n",
    "\n",
    "\n",
    "#Store the percent difference in fc_diff\n",
    "for i in range(len(y_pred)):\n",
    "    fc_diff.append((y_pred[i] - y_test[i])/y_test[i])"
   ]
  },
  {
   "cell_type": "code",
   "execution_count": 27,
   "metadata": {},
   "outputs": [
    {
     "name": "stdout",
     "output_type": "stream",
     "text": [
      "0.347212133691637\n"
     ]
    }
   ],
   "source": [
    "#print mean error\n",
    "fc_mean_error = np.mean(fc_diff)\n",
    "print(fc_mean_error)"
   ]
  },
  {
   "cell_type": "code",
   "execution_count": 28,
   "metadata": {},
   "outputs": [
    {
     "name": "stdout",
     "output_type": "stream",
     "text": [
      "0.6950029823050068\n"
     ]
    }
   ],
   "source": [
    "fc_std_error = np.std(fc_diff)\n",
    "print(fc_std_error)"
   ]
  },
  {
   "cell_type": "code",
   "execution_count": 29,
   "metadata": {},
   "outputs": [
    {
     "data": {
      "image/png": "[encoded data removed]",
      "text/plain": [
       "<matplotlib.figure.Figure at 0x8293780>"
      ]
     },
     "metadata": {},
     "output_type": "display_data"
    }
   ],
   "source": [
    "plt.hist(fc_diff)\n",
    "plt.xlabel('Count')\n",
    "plt.ylabel(\"Mean Error\")\n",
    "plt.title('fc Percent Mean Error Using MLP Regression')\n",
    "plt.show()"
   ]
  },
  {
   "cell_type": "markdown",
   "metadata": {},
   "source": [
    "### Random Forest Regressor"
   ]
  },
  {
   "cell_type": "code",
   "execution_count": 30,
   "metadata": {},
   "outputs": [
    {
     "data": {
      "text/plain": [
       "RandomForestRegressor(bootstrap=True, criterion='mse', max_depth=6,\n",
       "           max_features='auto', max_leaf_nodes=None,\n",
       "           min_impurity_decrease=0.0, min_impurity_split=None,\n",
       "           min_samples_leaf=1, min_samples_split=2,\n",
       "           min_weight_fraction_leaf=0.0, n_estimators=10, n_jobs=1,\n",
       "           oob_score=False, random_state=42, verbose=0, warm_start=False)"
      ]
     },
     "execution_count": 30,
     "metadata": {},
     "output_type": "execute_result"
    }
   ],
   "source": [
    "#Import package\n",
    "from sklearn.ensemble import RandomForestRegressor\n",
    "#Create regressor\n",
    "clf_rfr = RandomForestRegressor(max_depth = 6, random_state = 42)\n",
    "#Fit the data\n",
    "clf_rfr.fit(X_train, y_train)"
   ]
  },
  {
   "cell_type": "code",
   "execution_count": 31,
   "metadata": {},
   "outputs": [],
   "source": [
    "#Store the predictions in y_rfr\n",
    "y_rfr= clf_rfr.predict(X_test)"
   ]
  },
  {
   "cell_type": "code",
   "execution_count": 32,
   "metadata": {},
   "outputs": [],
   "source": [
    "#Store the difference in an array\n",
    "fc_diff_rfr = []\n",
    "\n",
    "\n",
    "#Store the percent difference in fc_diff_rfr\n",
    "for i in range(len(y_pred)):\n",
    "    fc_diff_rfr.append((y_rfr[i] - y_test[i])/y_test[i])"
   ]
  },
  {
   "cell_type": "code",
   "execution_count": 33,
   "metadata": {},
   "outputs": [
    {
     "name": "stdout",
     "output_type": "stream",
     "text": [
      "0.18699475496664641\n"
     ]
    }
   ],
   "source": [
    "#print mean error\n",
    "fc_mean_error_rfr = np.mean(fc_diff_rfr)\n",
    "print(fc_mean_error_rfr)"
   ]
  },
  {
   "cell_type": "code",
   "execution_count": 34,
   "metadata": {},
   "outputs": [
    {
     "name": "stdout",
     "output_type": "stream",
     "text": [
      "0.4301310649264631\n"
     ]
    }
   ],
   "source": [
    "fc_std_error_rfr = np.std(fc_diff_rfr)\n",
    "print(fc_std_error_rfr)"
   ]
  },
  {
   "cell_type": "code",
   "execution_count": 35,
   "metadata": {},
   "outputs": [
    {
     "data": {
      "image/png": "[encoded data removed]",
      "text/plain": [
       "<matplotlib.figure.Figure at 0xc549f60>"
      ]
     },
     "metadata": {},
     "output_type": "display_data"
    }
   ],
   "source": [
    "plt.hist(fc_diff)\n",
    "plt.xlabel('Count')\n",
    "plt.ylabel(\"Mean Error\")\n",
    "plt.title('fc Percent Mean Error Using Random Forest Regression')\n",
    "plt.show()"
   ]
  }
 ],
 "metadata": {
  "kernelspec": {
   "display_name": "Python 3",
   "language": "python",
   "name": "python3"
  },
  "language_info": {
   "codemirror_mode": {
    "name": "ipython",
    "version": 3
   },
   "file_extension": ".py",
   "mimetype": "text/x-python",
   "name": "python",
   "nbconvert_exporter": "python",
   "pygments_lexer": "ipython3",
   "version": "3.6.4"
  }
 },
 "nbformat": 4,
 "nbformat_minor": 2
}
